{
 "cells": [
  {
   "cell_type": "code",
   "execution_count": null,
   "id": "6d83c897",
   "metadata": {},
   "outputs": [],
   "source": []
  },
  {
   "cell_type": "code",
   "execution_count": null,
   "id": "66667761",
   "metadata": {},
   "outputs": [],
   "source": []
  },
  {
   "cell_type": "code",
   "execution_count": 1,
   "id": "8f497b85",
   "metadata": {},
   "outputs": [
    {
     "name": "stdout",
     "output_type": "stream",
     "text": [
      "x,y =  [3.  1.5]\n",
      " And the optimal solution is  24.0\n"
     ]
    },
    {
     "data": {
      "text/plain": [
       "     con: array([], dtype=float64)\n",
       "     fun: -24.0\n",
       " message: 'Optimization terminated successfully.'\n",
       "     nit: 4\n",
       "   slack: array([0. , 0. , 2.5, 0.5])\n",
       "  status: 0\n",
       " success: True\n",
       "       x: array([3. , 1.5])"
      ]
     },
     "execution_count": 1,
     "metadata": {},
     "output_type": "execute_result"
    }
   ],
   "source": [
    "from scipy.optimize import linprog\n",
    "\n",
    "#As scipy.optimize minimizes, equality or inequality is multiplied by -1 to change the sign and maximize the solution.\n",
    "\n",
    "obj = [-5,-6] # objective \n",
    "lhs_ineq = [[6,4],[1,2],[-1,1],[0,1]] #x1 and x2 coefficients of the constraint\n",
    "rhs_ineq = [[24],[6],[1],[2]] # bounds for each constraint c>= or <=c, where c is constant\n",
    "bnd = [(0, float(\"inf\")),(0, float(\"inf\"))]\n",
    "opt = linprog(c=obj, A_ub = lhs_ineq, b_ub = rhs_ineq, bounds = bnd, method = \"revised simplex\")\n",
    "opt\n",
    "print(\"x,y = \" , opt.x)\n",
    "print(\" And the optimal solution is \", -opt.fun)\n",
    "opt"
   ]
  },
  {
   "cell_type": "code",
   "execution_count": 2,
   "id": "6985795d",
   "metadata": {},
   "outputs": [
    {
     "name": "stdout",
     "output_type": "stream",
     "text": [
      " x,y values =  [3.  1.5]\n",
      " And the optimal solution is  39.0\n"
     ]
    },
    {
     "data": {
      "text/plain": [
       "     con: array([], dtype=float64)\n",
       "     fun: -39.0\n",
       " message: 'Optimization terminated successfully.'\n",
       "     nit: 4\n",
       "   slack: array([0. , 0. , 2.5, 0.5])\n",
       "  status: 0\n",
       " success: True\n",
       "       x: array([3. , 1.5])"
      ]
     },
     "execution_count": 2,
     "metadata": {},
     "output_type": "execute_result"
    }
   ],
   "source": [
    "from scipy.optimize import linprog\n",
    "\n",
    "#As scipy.optimize minimizes, equality or inequality is multiplied by -1 to change the sign and maximize the solution.\n",
    "\n",
    "obj = [-8,-10] \n",
    "lhs_ineq = [[6,4],[1,2],[-1,1],[0,1]] #x1 and x2 coefficients of the constraint\n",
    "rhs_ineq = [[24],[6],[1],[2]]# bounds for each constraint c>= or <=c, where c is constant\n",
    "bnd = [(0, float(\"inf\")),(0, float(\"inf\"))]\n",
    "opt = linprog(c=obj, A_ub = lhs_ineq, b_ub = rhs_ineq, bounds = bnd, method = \"revised simplex\")\n",
    "opt\n",
    "print(\" x,y values = \" , opt.x)\n",
    "print(\" And the optimal solution is \",-opt.fun)\n",
    "opt"
   ]
  },
  {
   "cell_type": "code",
   "execution_count": 3,
   "id": "5da11cea",
   "metadata": {},
   "outputs": [
    {
     "name": "stdout",
     "output_type": "stream",
     "text": [
      "x,y =  [5. 0.]\n",
      " Unfortunately the problem is infeasible \n"
     ]
    },
    {
     "data": {
      "text/plain": [
       "     con: array([], dtype=float64)\n",
       "     fun: -25.0\n",
       " message: 'The problem appears infeasible, as the phase one auxiliary problem terminated successfully with a residual of 6.0e+00, greater than the tolerance 1e-12 required for the solution to be considered feasible. Consider increasing the tolerance to be greater than 6.0e+00. If this tolerance is unnaceptably large, the problem is likely infeasible.'\n",
       "     nit: 0\n",
       "   slack: array([-6.,  1.,  6.,  0.,  2.])\n",
       "  status: 2\n",
       " success: False\n",
       "       x: array([5., 0.])"
      ]
     },
     "execution_count": 3,
     "metadata": {},
     "output_type": "execute_result"
    }
   ],
   "source": [
    "from scipy.optimize import linprog\n",
    "\n",
    "#As scipy.optimize minimizes, equality or inequality is multiplied by -1 to change the sign and maximize the solution.\n",
    "\n",
    "obj = [-5,-6] \n",
    "lhs_ineq = [[6,4],[1,2],[-1,1],[-1,0],[0,1]] #x1 and x2 coefficients of the constraint\n",
    "rhs_ineq = [[24],[6],[1],[-5],[2]]# bounds for each constraint c>= or <=c, where c is constant\n",
    "bnd = [(0, float(\"inf\")),(0, float(\"inf\"))]\n",
    "opt = linprog(c=obj, A_ub = lhs_ineq, b_ub = rhs_ineq, bounds = bnd, method = \"revised simplex\")\n",
    "opt\n",
    "print(\"x,y = \" , opt.x)\n",
    "print(\" Unfortunately the problem is infeasible \")\n",
    "opt"
   ]
  },
  {
   "cell_type": "code",
   "execution_count": 4,
   "id": "0222f15c",
   "metadata": {},
   "outputs": [
    {
     "name": "stdout",
     "output_type": "stream",
     "text": [
      "x,y =  [0.8 1.8]\n",
      " And the optimal solution is  40.4\n"
     ]
    },
    {
     "data": {
      "text/plain": [
       "     con: array([], dtype=float64)\n",
       "     fun: -40.4\n",
       " message: 'Optimization terminated successfully.'\n",
       "     nit: 2\n",
       "   slack: array([0. , 7.6, 0. , 0.4])\n",
       "  status: 0\n",
       " success: True\n",
       "       x: array([0.8, 1.8])"
      ]
     },
     "execution_count": 4,
     "metadata": {},
     "output_type": "execute_result"
    }
   ],
   "source": [
    "from scipy.optimize import linprog\n",
    "\n",
    "#As scipy.optimize minimizes, equality or inequality is multiplied by -1 to change the sign and maximize the solution.\n",
    "\n",
    "obj = [-10,-18] \n",
    "lhs_ineq = [[6,4],[1,2],[-1,1],[0,2]] #x1 and x2 coefficients of the constraint\n",
    "rhs_ineq = [[12],[12],[1],[4]]# bounds for each constraint c>= or <=c, where c is constant\n",
    "bnd = [(0, float(\"inf\")),(0, float(\"inf\"))]\n",
    "opt = linprog(c=obj, A_ub = lhs_ineq, b_ub = rhs_ineq, bounds = bnd, method = \"revised simplex\")\n",
    "opt\n",
    "print(\"x,y = \" , opt.x)\n",
    "print(\" And the optimal solution is \",-opt.fun)\n",
    "opt"
   ]
  },
  {
   "cell_type": "code",
   "execution_count": 5,
   "id": "6aa5f522",
   "metadata": {},
   "outputs": [
    {
     "name": "stdout",
     "output_type": "stream",
     "text": [
      "x =  [15.]\n",
      " And the optimal solution is  90.0\n"
     ]
    },
    {
     "data": {
      "text/plain": [
       "     con: array([], dtype=float64)\n",
       "     fun: 90.0\n",
       " message: 'The solution was determined in presolve as there are no non-trivial constraints.'\n",
       "     nit: 0\n",
       "   slack: array([55.,  0.,  9., 21.])\n",
       "  status: 0\n",
       " success: True\n",
       "       x: array([15.])"
      ]
     },
     "execution_count": 5,
     "metadata": {},
     "output_type": "execute_result"
    }
   ],
   "source": [
    "from scipy.optimize import linprog\n",
    "\n",
    "#As scipy.optimize minimizes, equality or inequality is multiplied by -1 to change the sign and maximize the solution.\n",
    "\n",
    "obj = [6] \n",
    "lhs_ineq = [[-5],[-2],[-1],[-3]] #x1 and x2 coefficients of the constraint\n",
    "rhs_ineq = [[-20],[-30],[-6],[-24]]# bounds for each constraint c>= or <=c, where c is constant\n",
    "bnd = [(0, float(\"inf\"))]\n",
    "opt = linprog(c = obj, A_ub = lhs_ineq, b_ub = rhs_ineq, bounds = bnd, method = \"revised simplex\")\n",
    "opt\n",
    "print(\"x = \" , opt.x)\n",
    "print(\" And the optimal solution is \",opt.fun)\n",
    "opt"
   ]
  },
  {
   "cell_type": "code",
   "execution_count": 6,
   "id": "3636b179",
   "metadata": {},
   "outputs": [
    {
     "name": "stdout",
     "output_type": "stream",
     "text": [
      "x,y =  [20.  0.]\n",
      " And the optimal solution is  60.0\n"
     ]
    },
    {
     "data": {
      "text/plain": [
       "     con: array([], dtype=float64)\n",
       "     fun: -60.0\n",
       " message: 'Optimization terminated successfully.'\n",
       "     nit: 2\n",
       "   slack: array([ 0., 18.])\n",
       "  status: 0\n",
       " success: True\n",
       "       x: array([20.,  0.])"
      ]
     },
     "execution_count": 6,
     "metadata": {},
     "output_type": "execute_result"
    }
   ],
   "source": [
    "from scipy.optimize import linprog\n",
    "\n",
    "#As scipy.optimize minimizes, equality or inequality is multiplied by -1 to change the sign and maximize the solution.\n",
    "\n",
    "obj = [-3,-4] \n",
    "lhs_ineq = [[1,5],[-1,0]] #x1 and x2 coefficients of the constraint\n",
    "rhs_ineq = [[20],[-2]]# bounds for each constraint c>= or <=c, where c is constant\n",
    "bnd = [(0, float(\"inf\")),(0, float(\"inf\"))]\n",
    "opt = linprog(c=obj, A_ub = lhs_ineq, b_ub = rhs_ineq, bounds = bnd, method = \"revised simplex\")\n",
    "opt\n",
    "print(\"x,y = \" , opt.x)\n",
    "print(\" And the optimal solution is \",-opt.fun)\n",
    "opt"
   ]
  },
  {
   "cell_type": "code",
   "execution_count": 7,
   "id": "2be1a158",
   "metadata": {},
   "outputs": [
    {
     "name": "stdout",
     "output_type": "stream",
     "text": [
      "x =  [4.]\n",
      " And the optimal solution is  24.0\n"
     ]
    },
    {
     "data": {
      "text/plain": [
       "     con: array([], dtype=float64)\n",
       "     fun: -24.0\n",
       " message: 'The solution was determined in presolve as there are no non-trivial constraints.'\n",
       "     nit: 0\n",
       "   slack: array([0.])\n",
       "  status: 0\n",
       " success: True\n",
       "       x: array([4.])"
      ]
     },
     "execution_count": 7,
     "metadata": {},
     "output_type": "execute_result"
    }
   ],
   "source": [
    "from scipy.optimize import linprog\n",
    "\n",
    "#As scipy.optimize minimizes, equality or inequality is multiplied by -1 to change the sign and maximize the solution.\n",
    "\n",
    "obj = [-6] \n",
    "lhs_ineq = [[5]] #x1 and x2 coefficients of the constraint\n",
    "rhs_ineq = [[20]]# bounds for each constraint c>= or <=c, where c is constant\n",
    "bnd = [(0, float(\"inf\"))]\n",
    "opt = linprog(c = obj, A_ub = lhs_ineq, b_ub = rhs_ineq, bounds = bnd, method = \"revised simplex\")\n",
    "opt\n",
    "print(\"x = \" , opt.x)\n",
    "print(\" And the optimal solution is \",-opt.fun)\n",
    "opt"
   ]
  },
  {
   "cell_type": "code",
   "execution_count": null,
   "id": "d5339d58",
   "metadata": {},
   "outputs": [],
   "source": []
  },
  {
   "cell_type": "code",
   "execution_count": null,
   "id": "16d7dc6f",
   "metadata": {},
   "outputs": [],
   "source": []
  }
 ],
 "metadata": {
  "kernelspec": {
   "display_name": "Python 3",
   "language": "python",
   "name": "python3"
  },
  "language_info": {
   "codemirror_mode": {
    "name": "ipython",
    "version": 3
   },
   "file_extension": ".py",
   "mimetype": "text/x-python",
   "name": "python",
   "nbconvert_exporter": "python",
   "pygments_lexer": "ipython3",
   "version": "3.8.8"
  }
 },
 "nbformat": 4,
 "nbformat_minor": 5
}
